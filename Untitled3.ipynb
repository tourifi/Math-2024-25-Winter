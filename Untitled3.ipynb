{
  "nbformat": 4,
  "nbformat_minor": 0,
  "metadata": {
    "colab": {
      "provenance": [],
      "include_colab_link": true
    },
    "kernelspec": {
      "name": "python3",
      "display_name": "Python 3"
    },
    "language_info": {
      "name": "python"
    }
  },
  "cells": [
    {
      "cell_type": "markdown",
      "metadata": {
        "id": "view-in-github",
        "colab_type": "text"
      },
      "source": [
        "<a href=\"https://colab.research.google.com/github/tourifi/Math-2024-25-Winter/blob/main/Untitled3.ipynb\" target=\"_parent\"><img src=\"https://colab.research.google.com/assets/colab-badge.svg\" alt=\"Open In Colab\"/></a>"
      ]
    },
    {
      "cell_type": "markdown",
      "source": [
        "## 1. Basic Operations on Matrices\n",
        "\n",
        "1. Calculate: $$\\mathbf{A}+\\mathbf{B}$$, $$\\mathbf{B}-\\mathbf{A}$$, $$\\mathbf{A}+\\mathbf{C}$$, $$\\mathbf{D}+\\mathbf{E}$$.\n",
        "\n",
        "2. Calculate $$\\frac{1}{2}\\mathbf{A}$$, $$2\\mathbf{B}$$, $$-3\\mathbf{C}$$, and $$4\\mathbf{D}$$.\n",
        "\n",
        "3. Calculate the products $$\\mathbf{A}\\cdot \\mathbf{B}$$, $$\\mathbf{B} \\cdot \\mathbf{A}$$, $$\\mathbf{A} \\cdot \\mathbf{D}$$, $$\\mathbf{D} \\cdot \\mathbf{E}$$.\n"
      ],
      "metadata": {
        "id": "NWw7YqfzOoAw"
      }
    },
    {
      "cell_type": "markdown",
      "source": [
        "## 2. Determinants 2x2 and 3x3\n",
        "\n",
        "### 2x2 Matrices:\n",
        "\n",
        "Calculate the determinants of the following 2x2 matrices:\n",
        "\n",
        "$$\n",
        "\\mathbf{A} =\n",
        "\\begin{pmatrix}\n",
        "2 & 3 \\\\\n",
        "1 & 4\n",
        "\\end{pmatrix},\n",
        "\\quad\n",
        "\\mathbf{B} =\n",
        "\\begin{pmatrix}\n",
        "5 & 6 \\\\\n",
        "7 & 8\n",
        "\\end{pmatrix},\n",
        "\\quad\n",
        "\\mathbf{C} =\n",
        "\\begin{pmatrix}\n",
        "-1 & 2 \\\\\n",
        "3 & 0\n",
        "\\end{pmatrix}\n",
        "$$\n",
        "\n",
        "### 3x3 Matrices:\n",
        "\n",
        "Calculate the determinants of the following 3x3 matrices:\n",
        "\n",
        "$$\n",
        "\\mathbf{D} =\n",
        "\\begin{pmatrix}\n",
        "1 & 0 & 2 \\\\\n",
        "-1 & 3 & 1 \\\\\n",
        "2 & 4 & -2\n",
        "\\end{pmatrix},\n",
        "\\quad\n",
        "\\mathbf{E} =\n",
        "\\begin{pmatrix}\n",
        "3 & 1 & -1 \\\\\n",
        "0 & 2 & 4 \\\\\n",
        "5 & 3 & 2\n",
        "\\end{pmatrix},\n",
        "\\quad\n",
        "\\mathbf{F} =\n",
        "\\begin{pmatrix}\n",
        "2 & -3 & 1 \\\\\n",
        "1 & 4 & -2 \\\\\n",
        "1 & 5 & 3\n",
        "\\end{pmatrix}\n",
        "$$\n"
      ],
      "metadata": {
        "id": "o2tNVJs1OqZ5"
      }
    },
    {
      "cell_type": "markdown",
      "source": [
        "## 3. Determinants using Laplace's Expansion\n",
        "\n",
        "Calculate the determinants of the following matrices using Laplace's Expansion:\n",
        "\n",
        "$$\n",
        "\\mathbf{A} =\n",
        "\\begin{pmatrix}\n",
        "2 & 3 & 1 \\\\\n",
        "1 & 4 & 0 \\\\\n",
        "3 & 2 & 1\n",
        "\\end{pmatrix},\n",
        "\\quad\n",
        "\\mathbf{B} =\n",
        "\\begin{pmatrix}\n",
        "2 & 3 & 1 \\\\\n",
        "1 & 4 & 0 \\\\\n",
        "3 & 2 & 0\n",
        "\\end{pmatrix},\n",
        "\\quad\n",
        "\\mathbf{C} =\n",
        "\\begin{pmatrix}\n",
        "2 & 3 & 1 & 4 \\\\\n",
        "1 & 0 & 0 & 6 \\\\\n",
        "3 & 2 & 1 & 5 \\\\\n",
        "2 & 1 & 4 & 0\n",
        "\\end{pmatrix}\n",
        "$$\n",
        "\n",
        "$$\n",
        "\\mathbf{D} =\n",
        "\\begin{pmatrix}\n",
        "2 & 3 & 1 & 4 & 5 \\\\\n",
        "1 & 4 & 0 & 0 & 7 \\\\\n",
        "3 & 0 & 0 & 0 & 0 \\\\\n",
        "2 & 1 & 4 & 3 & 2 \\\\\n",
        "1 & 2 & 3 & 4 & 5\n",
        "\\end{pmatrix}\n",
        "$$\n"
      ],
      "metadata": {
        "id": "fZXRsNQkOt6L"
      }
    },
    {
      "cell_type": "markdown",
      "source": [
        "## 4. Determinants from the Gauss Method and Triangular Matrices\n",
        "\n",
        "Perform row and column operations to reduce the following matrices to an upper triangular form and calculate their determinants:\n",
        "\n",
        "$$\n",
        "\\mathbf{A} =\n",
        "\\begin{pmatrix}\n",
        "12 & 3 \\\\\n",
        "-18 & -4\n",
        "\\end{pmatrix},\n",
        "\\quad\n",
        "\\mathbf{B} =\n",
        "\\begin{pmatrix}\n",
        "1 & 2 & 3 \\\\\n",
        "4 & 5 & 6 \\\\\n",
        "7 & 8 & 9\n",
        "\\end{pmatrix}\n",
        "$$\n"
      ],
      "metadata": {
        "id": "lEMNJzRAOvz8"
      }
    },
    {
      "cell_type": "markdown",
      "source": [
        "## 5. Inverse of a Matrix from the Formula\n",
        "\n",
        "1. Find the inverse of the matrix:\n",
        "\n",
        "$$\n",
        "\\mathbf{A} =\n",
        "\\begin{pmatrix}\n",
        "2 & 0 & 1 \\\\\n",
        "0 & 1 & 0 \\\\\n",
        "1 & 2 & 0\n",
        "\\end{pmatrix}\n",
        "$$\n",
        "\n",
        "Verify if the result is correct.\n",
        "\n",
        "2. Determine the rank of the matrix:\n",
        "\n",
        "$$\n",
        "\\mathbf{B} =\n",
        "\\begin{pmatrix}\n",
        "4 & -3 & 7 \\\\\n",
        "-1 & 6 & 3 \\\\\n",
        "2 & 9 & 1\n",
        "\\end{pmatrix}\n",
        "$$\n"
      ],
      "metadata": {
        "id": "ow2Z7QOVOx_m"
      }
    },
    {
      "cell_type": "markdown",
      "source": [
        "## 6. Inverse of a Matrix using the Gauss Method\n",
        "\n",
        "Find the inverse matrices of the following using the Gauss method:\n",
        "\n",
        "$$\n",
        "\\mathbf{A} =\n",
        "\\begin{pmatrix}\n",
        "1 & 2 \\\\\n",
        "3 & 4\n",
        "\\end{pmatrix},\n",
        "\\quad\n",
        "\\mathbf{B} =\n",
        "\\begin{pmatrix}\n",
        "1 & 2 & 3 \\\\\n",
        "4 & 5 & 1 \\\\\n",
        "2 & 3 & 2\n",
        "\\end{pmatrix},\n",
        "\\quad\n",
        "\\mathbf{C} =\n",
        "\\begin{pmatrix}\n",
        "0 & 0 & 1 \\\\\n",
        "0 & 1 & 0 \\\\\n",
        "1 & 0 & 0\n",
        "\\end{pmatrix}\n",
        "$$\n"
      ],
      "metadata": {
        "id": "QhZhEj-KO0HY"
      }
    },
    {
      "cell_type": "markdown",
      "source": [
        "## 7. Linear Equations Old School\n",
        "\n",
        "Solve the following systems of equations without using matrices:\n",
        "\n",
        "1. $$3x - 2y = 5, \\quad 2x + 3y = 7$$\n",
        "2. $$2x - 3y = 10, \\quad 4x + 5y = 20$$\n",
        "3. $$2x - y + z = 3, \\quad x + 2y - z = 1, \\quad 3x - y + 2z = 11$$\n",
        "4. $$2x - 3y + 4z + 2t = 2, \\quad 3x + 2y - 5z + 3t = 3, \\quad 4x - 3y + 2z - 5t = 4, \\quad 5x + 4y - 3z + 2t = 5$$\n"
      ],
      "metadata": {
        "id": "YVh0j7XqO1ws"
      }
    },
    {
      "cell_type": "markdown",
      "source": [
        "## 8. Linear Equations by Cramer's Rule\n",
        "\n",
        "1. Solve the system of equations:\n",
        "\n",
        "   $$\\begin{cases}\n",
        "   2x_1 - 3x_2 = 7\\\\\n",
        "   3x_1 + 5x_2 = 2\n",
        "   \\end{cases}$$\n",
        "\n",
        "2. Solve the system of equations:\n",
        "\n",
        "   $$\\begin{cases}\n",
        "   2x + y - z = 1 \\\\\n",
        "   x - y + 2z = 4 \\\\\n",
        "   3x - 2z = -1\n",
        "   \\end{cases}$$\n",
        "\n",
        "3. Solve the system of equations:\n",
        "\n",
        "   $$\\begin{cases}\n",
        "   x + y + z - t = 2 \\\\\n",
        "   x - z + 2t = 6 \\\\\n",
        "   2x - 3y + t = 4 \\\\\n",
        "   3x + y + 3z - 4t = -2\n",
        "   \\end{cases}$$\n",
        "\n",
        "4. Why can't the following system of equations be solved using Cramer's rule?\n",
        "\n",
        "   $$\\begin{cases}\n",
        "   x_1 + 2x_2 + 3x_3 = 3 \\\\\n",
        "   4x_1 + 5x_2 + 6x_3 = 2 \\\\\n",
        "   7x_1 + 8x_2 + 9x_3 = 1\n",
        "   \\end{cases}$$\n"
      ],
      "metadata": {
        "id": "XAYJ6uLwO3um"
      }
    },
    {
      "cell_type": "markdown",
      "source": [
        "## 9. Linear Equations by Gauss Elimination\n",
        "\n",
        "Solve the following systems of equations:\n",
        "\n",
        "1. $$\\begin{cases}\n",
        "x + 2y - 2z = 4 \\\\\n",
        "2x + y + z = 0 \\\\\n",
        "3x + 2y + z = 1\n",
        "\\end{cases}$$\n",
        "\n",
        "2. $$\\begin{cases}\n",
        "x + y + z - t = 2 \\\\\n",
        "2x + y + z = 3 \\\\\n",
        "-x + z - t = 0 \\\\\n",
        "3x + 2y - z + 2t = -1\n",
        "\\end{cases}$$\n",
        "\n",
        "3. $$\\begin{cases}\n",
        "x + y - z - t = 0 \\\\\n",
        "2x + 3y - 2z + t = 4 \\\\\n",
        "3x + 5z = 0 \\\\\n",
        "-x + y - 3z + 2t = 3\n",
        "\\end{cases}$$\n"
      ],
      "metadata": {
        "id": "ClybpoQXO7Zp"
      }
    },
    {
      "cell_type": "markdown",
      "source": [
        "## 10. Linear Equations by Matrix Inversion\n",
        "\n",
        "1. Solve the system of equations using the inverse matrix method:\n",
        "\n",
        "   $$\\begin{cases}\n",
        "   x + 2y + 3z = 5 \\\\\n",
        "   2y + 3z = 4 \\\\\n",
        "   3z = 3\n",
        "   \\end{cases}$$\n",
        "\n",
        "2. Solve the system of equations using the inverse matrix method:\n",
        "\n",
        "   $$\\begin{cases}\n",
        "   x_1 + 2x_2 + 3x_3 = 41 \\\\\n",
        "   4x_1 + 5x_2 + 6x_3 = 93 \\\\\n",
        "   7x_1 + 8x_2 + 9x_3 = 145\n",
        "   \\end{cases}$$\n"
      ],
      "metadata": {
        "id": "9Dx7YBVCO-Ua"
      }
    },
    {
      "cell_type": "markdown",
      "source": [
        "11. Vectors I\n",
        "### A.\n",
        "$$\n",
        "\\|\\mathbf{a}\\| = \\sqrt{3^2 + 4^2} = \\sqrt{9 + 16} = 5.\n",
        "$$\n",
        "$$\n",
        "\\text{Scale factor} = \\frac{1}{\\|\\mathbf{a}\\|} = \\frac{1}{5}.\n",
        "$$"
      ],
      "metadata": {
        "id": "8fMljWqxQQSo"
      }
    },
    {
      "cell_type": "markdown",
      "source": [
        "### B.\n",
        "$$\n",
        "\\|\\mathbf{b}\\| = \\sqrt{1^2 + 1^2} = \\sqrt{2}.\n",
        "$$\n",
        "$$\n",
        "\\mathbf{\\hat{b}} = \\frac{\\mathbf{b}}{\\|\\mathbf{b}\\|} = \\left[\\frac{1}{\\sqrt{2}}, \\frac{1}{\\sqrt{2}}\\right].\n",
        "$$"
      ],
      "metadata": {
        "id": "QydshgG_QYc4"
      }
    },
    {
      "cell_type": "code",
      "source": [
        "import matplotlib.pyplot as plt\n",
        "import numpy as np\n",
        "\n",
        "b = np.array([1, 1])                 # Original vector\n",
        "unit_b = b / np.linalg.norm(b)       # Unit vector\n",
        "\n",
        "plt.quiver(0, 0, b[0], b[1], color='r', angles='xy', scale_units='xy', scale=1, label='Vector')\n",
        "plt.quiver(0, 0, unit_b[0], unit_b[1], color='b', angles='xy', scale_units='xy', scale=1, label='Unit Vector')\n",
        "\n",
        "plt.xlim(0, 1.5), plt.ylim(0, 1.5)   # Axes limits\n",
        "plt.grid(True), plt.gca().set_aspect('equal')\n",
        "plt.legend(), plt.title(\"Vector & Unit Vector\")\n",
        "plt.show()"
      ],
      "metadata": {
        "colab": {
          "base_uri": "https://localhost:8080/",
          "height": 452
        },
        "id": "x-DLqa1pQbAu",
        "outputId": "ccf5be74-34d9-44c7-fa22-4605b81db0fa"
      },
      "execution_count": null,
      "outputs": [
        {
          "output_type": "display_data",
          "data": {
            "text/plain": [
              "<Figure size 640x480 with 1 Axes>"
            ],
            "image/png": "[encoded data removed]"
          },
          "metadata": {}
        }
      ]
    },
    {
      "cell_type": "markdown",
      "source": [
        "### D.\n",
        "$$\n",
        "\\|\\mathbf{c}\\| = \\sqrt{1^2 + 2^2 + 3^2} = \\sqrt{1 + 4 + 9} = \\sqrt{14}.\n",
        "$$\n",
        "$$\n",
        "\\mathbf{\\hat{c}} = \\frac{\\mathbf{c}}{\\|\\mathbf{c}\\|} = \\left[\\frac{1}{\\sqrt{14}}, \\frac{2}{\\sqrt{14}}, \\frac{3}{\\sqrt{14}}\\right].\n",
        "$$"
      ],
      "metadata": {
        "id": "A3Tzz2a5Qd4O"
      }
    },
    {
      "cell_type": "markdown",
      "source": [
        "### E.\n",
        "$$\n",
        "\\mathbf{v} = c_1 \\mathbf{b}_1 + c_2 \\mathbf{b}_2 + c_3 \\mathbf{b}_3,\n",
        "$$\n",
        "$$\n",
        "\\begin{aligned}\n",
        "c_1 + c_3 &= 2, \\\\\n",
        "c_2 &= 3, \\\\\n",
        "c_1 - c_3 &= 4.\n",
        "\\end{aligned}\n",
        "$$\n",
        "$$\n",
        "c_1 = 3, \\quad c_2 = 3, \\quad c_3 = -1.\n",
        "$$\n",
        "$$\n",
        "[c_1, c_2, c_3] = [3, 3, -1].\n",
        "$$"
      ],
      "metadata": {
        "id": "PU6OZk2AQgvk"
      }
    },
    {
      "cell_type": "markdown",
      "source": [
        "12. Vectors II\n",
        "### A.\n",
        "$$\n",
        "\\mathbf{u} + \\mathbf{v} = [2, 1] + [-1, 1] = [1, 2].\n",
        "$$"
      ],
      "metadata": {
        "id": "gPoWXzaOQz89"
      }
    },
    {
      "cell_type": "markdown",
      "source": [
        "https://www.geogebra.org/graphing/v4rxz67v"
      ],
      "metadata": {
        "id": "Z8nTY50NQ-Pb"
      }
    },
    {
      "cell_type": "markdown",
      "source": [
        "### B.\n",
        "$$\n",
        "\\|\\mathbf{u} \\times \\mathbf{v}\\| = \\left| 2 \\cdot 1 - 1 \\cdot (-1) \\right| = \\left| 2 + 1 \\right| = 3.\n",
        "$$\n",
        "$$\n",
        "\\text{Area} = \\frac{\\|\\mathbf{u} \\times \\mathbf{v}\\|}{2} = \\frac{3}{2}.\n",
        "$$"
      ],
      "metadata": {
        "id": "XWQznykKRA7s"
      }
    },
    {
      "cell_type": "markdown",
      "source": [
        "### C.\n",
        "$$\n",
        "\\text{Volume} = \\left| \\det \\begin{bmatrix}\n",
        "2 & -1 & 1 \\\\\n",
        "1 & 1 & 2 \\\\\n",
        "0 & 0 & 1\n",
        "\\end{bmatrix} \\right|.\n",
        "$$\n",
        "$$\n",
        "\\text{Volume} = \\left| (2)(1)(1) + (-1)(2)(0) + (1)(1)(0) - (1)(1)(1) - (2)(0)(0) - (-1)(0)(1) \\right| = \\left| 2 - 1 \\right| = 1.\n",
        "$$"
      ],
      "metadata": {
        "id": "Vsc7HlsGRDep"
      }
    },
    {
      "cell_type": "markdown",
      "source": [
        "### D.\n",
        "$$\n",
        "\\mathbf{u} \\cdot \\mathbf{v} = (2)(-1) + (1)(1) = -2 + 1 = -1.\n",
        "$$"
      ],
      "metadata": {
        "id": "Kw0qbD3iRGjM"
      }
    },
    {
      "cell_type": "markdown",
      "source": [
        "### E.\n",
        "$$\n",
        "\\mathbf{u} \\cdot \\mathbf{v} = (4)(1) + (2)(3) + (1)(2) = 4 + 6 + 2 = 12.\n",
        "$$\n",
        "$$\n",
        "\\|\\mathbf{u}\\| = \\sqrt{4^2 + 2^2 + 1^2} = \\sqrt{16 + 4 + 1} = \\sqrt{21}.\n",
        "$$\n",
        "$$\n",
        "\\|\\mathbf{v}\\| = \\sqrt{1^2 + 3^2 + 2^2} = \\sqrt{1 + 9 + 4} = \\sqrt{14}.\n",
        "$$\n",
        "$$\n",
        "\\cos\\theta = \\frac{\\mathbf{u} \\cdot \\mathbf{v}}{\\|\\mathbf{u}\\| \\|\\mathbf{v}\\|} = \\frac{12}{\\sqrt{21} \\cdot \\sqrt{14}} = \\frac{12}{\\sqrt{294}}.\n",
        "$$\n",
        "$$\n",
        "\\theta = \\cos^{-1}\\left(\\frac{12}{\\sqrt{294}}\\right).\n",
        "$$"
      ],
      "metadata": {
        "id": "50COOGXlRIon"
      }
    },
    {
      "cell_type": "markdown",
      "source": [
        "### F.\n",
        "$$\n",
        "\\mathbf{a} \\times (\\mathbf{b} \\times \\mathbf{c}) = (\\mathbf{a} \\cdot \\mathbf{c}) \\mathbf{b} - (\\mathbf{a} \\cdot \\mathbf{b}) \\mathbf{c}.\n",
        "$$"
      ],
      "metadata": {
        "id": "v31VCmlYRK2b"
      }
    },
    {
      "cell_type": "markdown",
      "source": [
        "13. Vectors III\n",
        "markdown\n",
        "### 1.\n",
        "$$\n",
        "P(x, y) = \\left( \\frac{m_2 x_1 + m_1 x_2}{m_1 + m_2}, \\frac{m_2 y_1 + m_1 y_2}{m_1 + m_2} \\right)\n",
        "$$\n",
        "$$\n",
        "P(x, y) = \\left( \\frac{3(-1) + 1(3)}{1 + 3}, \\frac{3(2) + 1(-2)}{1 + 3} \\right)\n",
        "$$\n",
        "$$\n",
        "P(x, y) = \\left( \\frac{-3 + 3}{4}, \\frac{6 - 2}{4} \\right) = (0, 1)\n",
        "$$"
      ],
      "metadata": {
        "id": "nVI-XNWKTXLR"
      }
    },
    {
      "cell_type": "markdown",
      "source": [
        "https://www.geogebra.org/graphing/hgr2hmnu"
      ],
      "metadata": {
        "id": "YfyjpTG5Tdme"
      }
    },
    {
      "cell_type": "markdown",
      "source": [
        "### 2.\n",
        "$$\n",
        "\\mathbf{a}_{OX} = (3, 0)\n",
        "$$\n",
        "$$\n",
        "\\mathbf{a}_{OY} = (0, 4)\n",
        "$$\n"
      ],
      "metadata": {
        "id": "8HYe-AewTeC5"
      }
    },
    {
      "cell_type": "markdown",
      "source": [
        "https://www.geogebra.org/graphing/pzx8ks4d"
      ],
      "metadata": {
        "id": "dOSO1CUHTiJI"
      }
    },
    {
      "cell_type": "markdown",
      "source": [
        "### 3.\n",
        "$$\n",
        "\\text{proj}_{\\mathbf{b}} \\mathbf{a} = \\frac{\\mathbf{a} \\cdot \\mathbf{b}}{\\|\\mathbf{b}\\|^2} \\mathbf{b}\n",
        "$$\n",
        "$$\n",
        "\\mathbf{a} \\cdot \\mathbf{b} = (2)(1) + (3)(1) = 5\n",
        "$$\n",
        "$$\n",
        "\\|\\mathbf{b}\\|^2 = (1)^2 + (1)^2 = 2\n",
        "$$\n",
        "$$\n",
        "\\text{proj}_{\\mathbf{b}} \\mathbf{a} = \\frac{5}{2} (1, 1) = \\left( \\frac{5}{2}, \\frac{5}{2} \\right)\n",
        "$$\n"
      ],
      "metadata": {
        "id": "s6r8fnkETl_Q"
      }
    },
    {
      "cell_type": "markdown",
      "source": [
        "https://www.geogebra.org/graphing/eycy7tac"
      ],
      "metadata": {
        "id": "4VANAMV2Tonp"
      }
    },
    {
      "cell_type": "markdown",
      "source": [
        "### 4.\n",
        "$$\n",
        "\\text{proj}_{\\mathbf{a}} \\mathbf{b} = \\frac{\\mathbf{a} \\cdot \\mathbf{b}}{\\|\\mathbf{a}\\|^2} \\mathbf{a}\n",
        "$$\n",
        "$$\n",
        "\\mathbf{a} \\cdot \\mathbf{b} = (2)(1) + (3)(1) = 5\n",
        "$$\n",
        "$$\n",
        "\\|\\mathbf{a}\\|^2 = (2)^2 + (3)^2 = 13\n",
        "$$\n",
        "$$\n",
        "\\text{proj}_{\\mathbf{a}} \\mathbf{b} = \\frac{5}{13} (2, 3) = \\left( \\frac{10}{13}, \\frac{15}{13} \\right)\n",
        "$$"
      ],
      "metadata": {
        "id": "fQJIK74UTqUQ"
      }
    },
    {
      "cell_type": "markdown",
      "source": [
        "https://www.geogebra.org/graphing/f4jve9s8"
      ],
      "metadata": {
        "id": "Xl7vY-rFTsQ6"
      }
    }
  ]
}